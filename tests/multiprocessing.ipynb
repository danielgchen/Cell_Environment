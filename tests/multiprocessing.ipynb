{
 "cells": [
  {
   "cell_type": "code",
   "execution_count": 1,
   "metadata": {},
   "outputs": [],
   "source": [
    "from multiprocessing import Pool, Process, Manager, cpu_count\n",
    "import numpy as np"
   ]
  },
  {
   "cell_type": "code",
   "execution_count": 6,
   "metadata": {},
   "outputs": [],
   "source": [
    "def get_rand1(return_dict):\n",
    "    for _ in range(1000):\n",
    "        x = np.random.choice([-1,1])\n",
    "    return_dict[1] =  x\n",
    "def get_rand2(return_dict):\n",
    "    for _ in range(1000):\n",
    "        x = np.random.choice([-2,2])\n",
    "    return_dict[2] =  x"
   ]
  },
  {
   "cell_type": "code",
   "execution_count": 7,
   "metadata": {},
   "outputs": [],
   "source": [
    "funcs = [get_rand1, get_rand2]"
   ]
  },
  {
   "cell_type": "code",
   "execution_count": 8,
   "metadata": {},
   "outputs": [],
   "source": [
    "def mp_process(*funcs):\n",
    "    manager = Manager()\n",
    "    return_dict = manager.dict()\n",
    "    procs = []\n",
    "    for func in funcs:\n",
    "        p = Process(target=func, args=[return_dict])\n",
    "        procs.append(p)\n",
    "        p.start()\n",
    "    for p in procs:\n",
    "        p.join()\n",
    "    return return_dict.values()"
   ]
  },
  {
   "cell_type": "code",
   "execution_count": 9,
   "metadata": {
    "scrolled": true
   },
   "outputs": [
    {
     "name": "stdout",
     "output_type": "stream",
     "text": [
      "53.9 ms ± 10 ms per loop (mean ± std. dev. of 7 runs, 10 loops each)\n"
     ]
    }
   ],
   "source": [
    "%timeit mp_process(*funcs)"
   ]
  },
  {
   "cell_type": "code",
   "execution_count": 37,
   "metadata": {},
   "outputs": [],
   "source": [
    "def get_rand1(a):\n",
    "    for _ in range(1000):\n",
    "        x = np.random.choice([-1 * a,a * 1])\n",
    "    return x\n",
    "def get_rand2(b):\n",
    "    for _ in range(1000):\n",
    "        x = np.random.choice([-2 * b,b * 2])\n",
    "    return x\n",
    "def get_rand3():\n",
    "    for _ in range(1000):\n",
    "        x = np.random.choice([-3,3])\n",
    "    return x"
   ]
  },
  {
   "cell_type": "code",
   "execution_count": 42,
   "metadata": {},
   "outputs": [],
   "source": [
    "params = [[get_rand1, {'a':1}], [get_rand2, {'b':1}], [get_rand3, {}]]"
   ]
  },
  {
   "cell_type": "code",
   "execution_count": 43,
   "metadata": {},
   "outputs": [],
   "source": [
    "def call_func(func, kwargs):\n",
    "    return func(**kwargs)"
   ]
  },
  {
   "cell_type": "code",
   "execution_count": 44,
   "metadata": {},
   "outputs": [],
   "source": [
    "def mp_pool(params):\n",
    "    pool = Pool(cpu_count())\n",
    "    results = pool.starmap_async(call_func, params)\n",
    "    results = results.get()\n",
    "    pool.close()\n",
    "    return results"
   ]
  },
  {
   "cell_type": "code",
   "execution_count": 45,
   "metadata": {},
   "outputs": [
    {
     "name": "stdout",
     "output_type": "stream",
     "text": [
      "37.3 ms ± 3.6 ms per loop (mean ± std. dev. of 7 runs, 10 loops each)\n"
     ]
    }
   ],
   "source": [
    "%timeit mp_pool(params)"
   ]
  },
  {
   "cell_type": "code",
   "execution_count": null,
   "metadata": {},
   "outputs": [],
   "source": []
  },
  {
   "cell_type": "code",
   "execution_count": null,
   "metadata": {},
   "outputs": [],
   "source": []
  }
 ],
 "metadata": {
  "kernelspec": {
   "display_name": "Python 3",
   "language": "python",
   "name": "python3"
  },
  "language_info": {
   "codemirror_mode": {
    "name": "ipython",
    "version": 3
   },
   "file_extension": ".py",
   "mimetype": "text/x-python",
   "name": "python",
   "nbconvert_exporter": "python",
   "pygments_lexer": "ipython3",
   "version": "3.7.6"
  }
 },
 "nbformat": 4,
 "nbformat_minor": 4
}
